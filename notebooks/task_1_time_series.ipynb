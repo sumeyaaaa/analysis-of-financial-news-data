{
 "cells": [
  {
   "cell_type": "code",
   "execution_count": null,
   "id": "69b7b289",
   "metadata": {},
   "outputs": [],
   "source": []
  },
  {
   "cell_type": "code",
   "execution_count": null,
   "id": "44fee3a0",
   "metadata": {},
   "outputs": [],
   "source": [
    "import sys\n",
    "import os\n",
    "\n",
    "# Adds the root directory (one level up from notebooks/) to sys.path\n",
    "sys.path.append(os.path.abspath(\"..\"))"
   ]
  },
  {
   "cell_type": "code",
   "execution_count": null,
   "id": "23993387",
   "metadata": {},
   "outputs": [],
   "source": [
    "from src.data_loader import load_news_data\n",
    "df = load_news_data()"
   ]
  },
  {
   "cell_type": "code",
   "execution_count": null,
   "id": "984b0532",
   "metadata": {},
   "outputs": [],
   "source": []
  }
 ],
 "metadata": {
  "language_info": {
   "name": "python"
  }
 },
 "nbformat": 4,
 "nbformat_minor": 5
}
