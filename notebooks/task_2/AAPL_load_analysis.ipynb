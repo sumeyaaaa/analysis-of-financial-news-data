{
 "cells": [
  {
   "cell_type": "code",
   "execution_count": 1,
   "id": "e0e169ec",
   "metadata": {},
   "outputs": [],
   "source": [
    "import sys\n",
    "import os\n",
    "\n",
    "# Go two levels up: from 'notebooks/task1/' to the project root\n",
    "sys.path.append(os.path.abspath(os.path.join('..', '..')))\n",
    "\n",
    "\n"
   ]
  },
  {
   "cell_type": "code",
   "execution_count": 2,
   "id": "beb7cf59",
   "metadata": {},
   "outputs": [
    {
     "name": "stdout",
     "output_type": "stream",
     "text": [
      "✅ Pandas valid dates: 10998 / 10998\n",
      "✅ Total valid after dateutil: 10998 / 10998\n",
      "                  Date      Open      High       Low     Close  Adj Close  \\\n",
      "0  1980-12-12 00:00:00  0.128348  0.128906  0.128348  0.128348   0.098943   \n",
      "1  1980-12-15 00:00:00  0.122210  0.122210  0.121652  0.121652   0.093781   \n",
      "2  1980-12-16 00:00:00  0.113281  0.113281  0.112723  0.112723   0.086898   \n",
      "3  1980-12-17 00:00:00  0.115513  0.116071  0.115513  0.115513   0.089049   \n",
      "4  1980-12-18 00:00:00  0.118862  0.119420  0.118862  0.118862   0.091630   \n",
      "\n",
      "      Volume  Dividends  Stock Splits  \n",
      "0  469033600        0.0           0.0  \n",
      "1  175884800        0.0           0.0  \n",
      "2  105728000        0.0           0.0  \n",
      "3   86441600        0.0           0.0  \n",
      "4   73449600        0.0           0.0  \n"
     ]
    }
   ],
   "source": [
    "from src.data_loader import load_stock_data\n",
    "filepath = r'C:\\Users\\ABC\\Desktop\\10Acadamy\\week1\\analysis-of-financial-news-data\\data\\yfinance_data\\yfinance_data\\AAPL_historical_data.csv'\n",
    "df_aapl = load_stock_data(filepath)\n",
    "print(df_aapl.head())"
   ]
  },
  {
   "cell_type": "code",
   "execution_count": null,
   "id": "21acf721",
   "metadata": {},
   "outputs": [],
   "source": []
  }
 ],
 "metadata": {
  "kernelspec": {
   "display_name": "venv",
   "language": "python",
   "name": "python3"
  },
  "language_info": {
   "codemirror_mode": {
    "name": "ipython",
    "version": 3
   },
   "file_extension": ".py",
   "mimetype": "text/x-python",
   "name": "python",
   "nbconvert_exporter": "python",
   "pygments_lexer": "ipython3",
   "version": "3.13.2"
  }
 },
 "nbformat": 4,
 "nbformat_minor": 5
}
