{
 "cells": [
  {
   "cell_type": "code",
   "execution_count": 2,
   "id": "beabc5fd",
   "metadata": {},
   "outputs": [
    {
     "name": "stderr",
     "output_type": "stream",
     "text": [
      "[*********************100%***********************]  1 of 1 completed\n"
     ]
    }
   ],
   "source": [
    "import yfinance as yf\n",
    "\n",
    "# Download TSLA data from 2018-01-01 to 2025-04-30\n",
    "tsla = yf.download(\n",
    "    \"FXI\", \n",
    "    start=\"2018-01-01\", \n",
    "    end=\"2025-05-01\"   # end date is exclusive, so use 2025-05-01 for up to April 30\n",
    ")\n",
    "\n",
    "# Reset index to make 'Date' a column\n",
    "tsla.reset_index(inplace=True)\n",
    "\n"
   ]
  },
  {
   "cell_type": "code",
   "execution_count": null,
   "id": "b472cdaa",
   "metadata": {},
   "outputs": [],
   "source": [
    "import os\n",
    "\n",
    "# Make sure the directory exists (creates it if it doesn't)\n",
    "os.makedirs(\"data/yfinance_data\", exist_ok=True)\n",
    "\n",
    "# Save the DataFrame as a CSV file in the correct folder\n",
    "tsla.to_csv(\"data/yfinance_data/FXI_2018_2025.csv\", index=False)\n"
   ]
  }
 ],
 "metadata": {
  "kernelspec": {
   "display_name": "venv",
   "language": "python",
   "name": "python3"
  },
  "language_info": {
   "codemirror_mode": {
    "name": "ipython",
    "version": 3
   },
   "file_extension": ".py",
   "mimetype": "text/x-python",
   "name": "python",
   "nbconvert_exporter": "python",
   "pygments_lexer": "ipython3",
   "version": "3.13.2"
  }
 },
 "nbformat": 4,
 "nbformat_minor": 5
}
