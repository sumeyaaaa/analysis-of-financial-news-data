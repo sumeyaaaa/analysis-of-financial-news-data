{
 "cells": [
  {
   "cell_type": "code",
   "execution_count": 1,
   "id": "5c5fb32f",
   "metadata": {},
   "outputs": [],
   "source": [
    "import pandas as pd\n",
    "df = pd.read_csv(r'C:\\Users\\ABC\\Desktop\\10Acadamy\\week1\\analysis-of-financial-news-data\\data\\clean_analyst_rating.csv')"
   ]
  },
  {
   "cell_type": "code",
   "execution_count": 2,
   "id": "a231ec18",
   "metadata": {},
   "outputs": [],
   "source": [
    "import sys\n",
    "import os\n",
    "\n",
    "# Go two levels up: from 'notebooks/task1/' to the project root\n",
    "sys.path.append(os.path.abspath(os.path.join('..', '..')))"
   ]
  },
  {
   "cell_type": "code",
   "execution_count": 5,
   "id": "bb7a9f56",
   "metadata": {},
   "outputs": [
    {
     "name": "stdout",
     "output_type": "stream",
     "text": [
      "AAPL: 2020-03-09 to 2020-06-10\n",
      "AMZN: 2020-04-27 to 2020-06-10\n",
      "GOOG: 2018-11-13 to 2020-06-10\n",
      "FB: 2020-02-19 to 2020-06-10\n",
      "MSF: 2010-04-06 to 2019-10-21\n",
      "NVDA: 2011-03-03 to 2020-06-10\n",
      "TSLA: 2019-07-01 to 2020-06-10\n"
     ]
    }
   ],
   "source": [
    "from src.date_range import print_selected_stock_date_ranges\n",
    "wanted_tickers = ['AAPL', 'AMZN', 'GOOG', 'FB', 'MSF', 'NVDA', 'TSLA']\n",
    "print_selected_stock_date_ranges(df, stock_col='stock', date_col='date', tickers=wanted_tickers)\n"
   ]
  }
 ],
 "metadata": {
  "kernelspec": {
   "display_name": "venv",
   "language": "python",
   "name": "python3"
  },
  "language_info": {
   "codemirror_mode": {
    "name": "ipython",
    "version": 3
   },
   "file_extension": ".py",
   "mimetype": "text/x-python",
   "name": "python",
   "nbconvert_exporter": "python",
   "pygments_lexer": "ipython3",
   "version": "3.13.2"
  }
 },
 "nbformat": 4,
 "nbformat_minor": 5
}
