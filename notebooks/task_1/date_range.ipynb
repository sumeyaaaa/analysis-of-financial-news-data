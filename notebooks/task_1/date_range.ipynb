{
 "cells": [
  {
   "cell_type": "code",
   "execution_count": 7,
   "id": "5c5fb32f",
   "metadata": {},
   "outputs": [],
   "source": [
    "import pandas as pd\n",
    "df = pd.read_csv(r'C:\\Users\\ABC\\Desktop\\10Acadamy\\week1\\analysis-of-financial-news-data\\data\\news_data_for_stock\\clean_analyst_rating.csv')"
   ]
  },
  {
   "cell_type": "code",
   "execution_count": 8,
   "id": "a231ec18",
   "metadata": {},
   "outputs": [],
   "source": [
    "import sys\n",
    "import os\n",
    "\n",
    "# Go two levels up: from 'notebooks/task1/' to the project root\n",
    "sys.path.append(os.path.abspath(os.path.join('..', '..')))"
   ]
  },
  {
   "cell_type": "code",
   "execution_count": 9,
   "id": "bb7a9f56",
   "metadata": {},
   "outputs": [
    {
     "name": "stdout",
     "output_type": "stream",
     "text": [
      "AAPL: 2020-03-09 to 2020-06-10\n",
      "AMZN: 2020-04-27 to 2020-06-10\n",
      "GOOG: 2018-11-13 to 2020-06-10\n",
      "FB: 2020-02-19 to 2020-06-10\n",
      "DAL: 2009-09-10 to 2020-06-10\n",
      "MSF: 2010-04-06 to 2019-10-21\n",
      "NVDA: 2011-03-03 to 2020-06-10\n",
      "TSLA: 2019-07-01 to 2020-06-10\n",
      "FXI: 2020-02-18 to 2020-06-11\n",
      "GOOGL: 2018-07-25 to 2020-06-10\n",
      "NFLX: 2016-08-23 to 2020-06-10\n",
      "BABA: 2015-05-11 to 2020-06-10\n",
      "GILD: 2009-09-11 to 2020-06-10\n",
      "UAL: 2018-01-11 to 2020-06-11\n",
      "INTC: 2020-05-26 to 2020-06-09\n",
      "AMD: 2019-12-21 to 2020-06-10\n",
      "CSCO: 2016-08-17 to 2020-06-10\n",
      "VZ: 2012-04-18 to 2020-06-11\n",
      "T: 2020-05-27 to 2020-06-11\n",
      "DIS: 2020-06-05 to 2020-06-10\n",
      "INO: 2009-10-26 to 2020-06-09\n",
      "ADBE: 2009-08-17 to 2020-06-08\n"
     ]
    }
   ],
   "source": [
    "from src.date_range import print_selected_stock_date_ranges\n",
    "wanted_tickers = ['AAPL', 'AMZN', 'GOOG', 'FB','DAL', 'MSF', 'NVDA', 'TSLA','FXI','GOOGL','NFLX','BABA','GILD','UAL','INTC','AMD','CSCO','VZ','T','DIS','INO','ADBE']\n",
    "print_selected_stock_date_ranges(df, stock_col='stock', date_col='date', tickers=wanted_tickers)\n"
   ]
  }
 ],
 "metadata": {
  "kernelspec": {
   "display_name": "venv",
   "language": "python",
   "name": "python3"
  },
  "language_info": {
   "codemirror_mode": {
    "name": "ipython",
    "version": 3
   },
   "file_extension": ".py",
   "mimetype": "text/x-python",
   "name": "python",
   "nbconvert_exporter": "python",
   "pygments_lexer": "ipython3",
   "version": "3.13.2"
  }
 },
 "nbformat": 4,
 "nbformat_minor": 5
}
