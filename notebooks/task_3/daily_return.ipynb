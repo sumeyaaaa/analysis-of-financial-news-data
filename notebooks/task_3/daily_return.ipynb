{
 "cells": [
  {
   "cell_type": "code",
   "execution_count": 1,
   "id": "9eb03006",
   "metadata": {},
   "outputs": [],
   "source": [
    "import pandas as pd\n",
    "df = pd.read_csv(r'C:\\Users\\ABC\\Desktop\\10Acadamy\\week1\\analysis-of-financial-news-data\\data\\final\\news_with_finbert_sentiment.csv')"
   ]
  },
  {
   "cell_type": "code",
   "execution_count": 2,
   "id": "3154ca0b",
   "metadata": {},
   "outputs": [],
   "source": [
    "import sys\n",
    "import os\n",
    "import talib \n",
    "\n",
    "# Go two levels up: from 'notebooks/task1/' to the project root\n",
    "sys.path.append(os.path.abspath(os.path.join('..', '..')))"
   ]
  },
  {
   "cell_type": "code",
   "execution_count": 3,
   "id": "d54b99e7",
   "metadata": {},
   "outputs": [
    {
     "name": "stdout",
     "output_type": "stream",
     "text": [
      "         date       Open      Close  daily_return\n",
      "0  2020-06-10  86.974998  88.209999          1.42\n",
      "1  2020-06-10  86.974998  88.209999          1.42\n",
      "2  2020-06-10  86.974998  88.209999          1.42\n",
      "3  2020-06-10  86.974998  88.209999          1.42\n",
      "4  2020-06-10  86.974998  88.209999          1.42\n"
     ]
    }
   ],
   "source": [
    "# Calculate daily return using Close and Open for each day\n",
    "df['daily_return'] = (df['Close'] / df['Open']) - 1\n",
    "df['daily_return'] = (df['daily_return'] * 100).round(2)  # Show as a percentage, e.g. -2.53 means -2.53%\n",
    "\n",
    "# To preview\n",
    "print(df[['date', 'Open', 'Close', 'daily_return']].head())\n"
   ]
  },
  {
   "cell_type": "code",
   "execution_count": 5,
   "id": "dd55ec93",
   "metadata": {},
   "outputs": [],
   "source": [
    "save_path = r\"C:\\Users\\ABC\\Desktop\\10Acadamy\\week1\\analysis-of-financial-news-data\\data\\final\\financial_data_with_return.csv\"\n",
    "df.to_csv(save_path, index=False)"
   ]
  }
 ],
 "metadata": {
  "kernelspec": {
   "display_name": "venv",
   "language": "python",
   "name": "python3"
  },
  "language_info": {
   "codemirror_mode": {
    "name": "ipython",
    "version": 3
   },
   "file_extension": ".py",
   "mimetype": "text/x-python",
   "name": "python",
   "nbconvert_exporter": "python",
   "pygments_lexer": "ipython3",
   "version": "3.13.2"
  }
 },
 "nbformat": 4,
 "nbformat_minor": 5
}
