{
 "cells": [
  {
   "cell_type": "code",
   "execution_count": 5,
   "id": "6280f5f9",
   "metadata": {},
   "outputs": [],
   "source": [
    "import sys\n",
    "import os\n",
    "\n",
    "# Go two levels up: from 'notebooks/task1/' to the project root\n",
    "sys.path.append(os.path.abspath(os.path.join('..', '..')))"
   ]
  },
  {
   "cell_type": "code",
   "execution_count": 6,
   "id": "1876260e",
   "metadata": {},
   "outputs": [
    {
     "name": "stdout",
     "output_type": "stream",
     "text": [
      "✅ Merged data saved: C:\\Users\\ABC\\Desktop\\10Acadamy\\week1\\analysis-of-financial-news-data\\data\\news_yfinance_merged.csv\n",
      "   Unnamed: 0                                           headline  \\\n",
      "0        7120  Tech Stocks And FAANGS Strong Again To Start D...   \n",
      "1        7121      10 Biggest Price Target Changes For Wednesday   \n",
      "2        7122  Benzinga Pro's Top 5 Stocks To Watch For Wed.,...   \n",
      "3        7123  Deutsche Bank Maintains Buy on Apple, Raises P...   \n",
      "4        7124  Apple To Let Users Trade In Their Mac Computer...   \n",
      "\n",
      "                                                 url          publisher  \\\n",
      "0  https://www.benzinga.com/government/20/06/1622...         JJ Kinahan   \n",
      "1  https://www.benzinga.com/analyst-ratings/price...         Lisa Levin   \n",
      "2  https://www.benzinga.com/short-sellers/20/06/1...  Benzinga Newsdesk   \n",
      "3  https://www.benzinga.com/news/20/06/16219873/d...  Benzinga Newsdesk   \n",
      "4  https://www.benzinga.com/news/20/06/16218697/a...      Neer Varshney   \n",
      "\n",
      "         date stock      Close       Open       High        Low     Volume  \n",
      "0  2020-06-10  AAPL  88.209999  86.974998  88.692497  86.522499  166651600  \n",
      "1  2020-06-10  AAPL  88.209999  86.974998  88.692497  86.522499  166651600  \n",
      "2  2020-06-10  AAPL  88.209999  86.974998  88.692497  86.522499  166651600  \n",
      "3  2020-06-10  AAPL  88.209999  86.974998  88.692497  86.522499  166651600  \n",
      "4  2020-06-10  AAPL  88.209999  86.974998  88.692497  86.522499  166651600  \n"
     ]
    }
   ],
   "source": [
    "import pandas as pd\n",
    "import glob\n",
    "import os\n",
    "\n",
    "# Path to yfinance_data folder\n",
    "yfinance_folder = r\"C:\\Users\\ABC\\Desktop\\10Acadamy\\week1\\analysis-of-financial-news-data\\data\\yfinance_data\"\n",
    "\n",
    "# Get all CSVs in folder\n",
    "csv_files = glob.glob(os.path.join(yfinance_folder, \"*_historical_data.csv\"))\n",
    "\n",
    "# Read and stack all yfinance CSVs\n",
    "df_list = []\n",
    "for file in csv_files:\n",
    "    # Extract ticker from filename (e.g. AAPL from AAPL_historical_data.csv)\n",
    "    ticker = os.path.basename(file).split('_')[0].upper()\n",
    "    df = pd.read_csv(file)\n",
    "    df['stock'] = ticker\n",
    "    df_list.append(df)\n",
    "\n",
    "df_prices = pd.concat(df_list, ignore_index=True)\n",
    "# Use format='mixed' to handle different date formats\n",
    "df_prices['date'] = pd.to_datetime(df_prices['Date'], format='mixed').dt.strftime('%Y-%m-%d')\n",
    "df_prices['stock'] = df_prices['stock'].str.upper()\n",
    "\n",
    "# (Optional) Keep only necessary columns for the merge\n",
    "cols_keep = ['date', 'stock', 'Close', 'Open', 'High', 'Low', 'Volume']\n",
    "df_prices = df_prices[cols_keep]\n",
    "\n",
    "# Load news data\n",
    "news_path = r\"C:\\Users\\ABC\\Desktop\\10Acadamy\\week1\\analysis-of-financial-news-data\\data\\news_data_for_stock\\clean_analyst_rating.csv\"\n",
    "df_news = pd.read_csv(news_path)\n",
    "df_news['stock'] = df_news['stock'].replace({'FB': 'META', 'MSF': 'MSFT'})\n",
    "df_news['date'] = pd.to_datetime(df_news['date'], format='mixed').dt.strftime('%Y-%m-%d')\n",
    "df_news['stock'] = df_news['stock'].str.upper()\n",
    "\n",
    "# Merge (inner join on 'date' and 'stock')\n",
    "df_merged = pd.merge(\n",
    "    df_news,\n",
    "    df_prices,\n",
    "    on=['stock', 'date'],\n",
    "    how='inner'\n",
    ")\n",
    "\n",
    "# Save to CSV\n",
    "out_path = r\"C:\\Users\\ABC\\Desktop\\10Acadamy\\week1\\analysis-of-financial-news-data\\data\\news_yfinance_merged.csv\"\n",
    "df_merged.to_csv(out_path, index=False)\n",
    "\n",
    "print(f\"✅ Merged data saved: {out_path}\")\n",
    "print(df_merged.head())\n",
    "\n"
   ]
  }
 ],
 "metadata": {
  "kernelspec": {
   "display_name": "venv",
   "language": "python",
   "name": "python3"
  },
  "language_info": {
   "codemirror_mode": {
    "name": "ipython",
    "version": 3
   },
   "file_extension": ".py",
   "mimetype": "text/x-python",
   "name": "python",
   "nbconvert_exporter": "python",
   "pygments_lexer": "ipython3",
   "version": "3.13.2"
  }
 },
 "nbformat": 4,
 "nbformat_minor": 5
}
